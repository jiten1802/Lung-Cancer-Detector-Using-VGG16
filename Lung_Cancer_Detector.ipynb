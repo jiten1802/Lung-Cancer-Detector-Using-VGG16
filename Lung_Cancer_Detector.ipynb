{
  "nbformat": 4,
  "nbformat_minor": 0,
  "metadata": {
    "colab": {
      "provenance": [],
      "gpuType": "T4"
    },
    "kernelspec": {
      "name": "python3",
      "display_name": "Python 3"
    },
    "language_info": {
      "name": "python"
    },
    "accelerator": "GPU"
  },
  "cells": [
    {
      "cell_type": "code",
      "execution_count": 4,
      "metadata": {
        "colab": {
          "base_uri": "https://localhost:8080/"
        },
        "id": "JsxPVbE7_09h",
        "outputId": "92b98784-2e97-444c-938d-7e8a820357ee"
      },
      "outputs": [
        {
          "output_type": "stream",
          "name": "stdout",
          "text": [
            "/bin/bash: line 1: mkrdir: command not found\n",
            "cp: cannot stat 'kaggle.json': No such file or directory\n",
            "chmod: cannot access '/root/.kaggle/kaggle.json': No such file or directory\n",
            "Traceback (most recent call last):\n",
            "  File \"/usr/local/bin/kaggle\", line 5, in <module>\n",
            "    from kaggle.cli import main\n",
            "  File \"/usr/local/lib/python3.10/dist-packages/kaggle/__init__.py\", line 7, in <module>\n",
            "    api.authenticate()\n",
            "  File \"/usr/local/lib/python3.10/dist-packages/kaggle/api/kaggle_api_extended.py\", line 398, in authenticate\n",
            "    raise IOError('Could not find {}. Make sure it\\'s located in'\n",
            "OSError: Could not find kaggle.json. Make sure it's located in /root/.kaggle. Or use the environment method.\n"
          ]
        }
      ],
      "source": [
        "! mkrdir ~/.kaggle\n",
        "! cp kaggle.json ~/.kaggle/\n",
        "! chmod 600 ~/.kaggle/kaggle.json\n",
        "! kaggle datasets list"
      ]
    },
    {
      "cell_type": "code",
      "source": [
        "!kaggle datasets download -d andrewmvd/lung-and-colon-cancer-histopathological-images"
      ],
      "metadata": {
        "colab": {
          "base_uri": "https://localhost:8080/"
        },
        "id": "32GCtkz9_8nG",
        "outputId": "fcc7085f-1c81-49ed-af9a-f5b2ee4cc2b5"
      },
      "execution_count": 5,
      "outputs": [
        {
          "output_type": "stream",
          "name": "stdout",
          "text": [
            "Dataset URL: https://www.kaggle.com/datasets/andrewmvd/lung-and-colon-cancer-histopathological-images\n",
            "License(s): CC-BY-SA-4.0\n",
            "Downloading lung-and-colon-cancer-histopathological-images.zip to /content\n",
            "100% 1.76G/1.76G [01:23<00:00, 23.5MB/s]\n",
            "100% 1.76G/1.76G [01:23<00:00, 22.7MB/s]\n"
          ]
        }
      ]
    },
    {
      "cell_type": "code",
      "source": [
        "import zipfile\n",
        "zip_ref = zipfile.ZipFile('lung-and-colon-cancer-histopathological-images.zip','r')\n",
        "zip_ref.extractall()\n",
        "zip_ref.close()"
      ],
      "metadata": {
        "id": "wkgpJ0YL_8pb"
      },
      "execution_count": 6,
      "outputs": []
    },
    {
      "cell_type": "code",
      "source": [
        "import tensorflow as tf\n",
        "import numpy as np\n",
        "import matplotlib.pyplot as plt\n",
        "from tensorflow import keras\n",
        "from keras import Sequential\n",
        "from keras.layers import Dense, Conv2D, MaxPooling2D, Flatten, BatchNormalization, Dropout\n",
        "from keras.preprocessing import image\n",
        "from keras import Sequential\n",
        "from keras.preprocessing.image import ImageDataGenerator\n",
        "from keras.applications import VGG16\n",
        "import cv2\n",
        "import os\n",
        "from sklearn.preprocessing import LabelEncoder\n",
        "from sklearn.metrics import classification_report, confusion_matrix\n",
        "from sklearn.model_selection import train_test_split\n",
        "import seaborn as sns"
      ],
      "metadata": {
        "id": "Z4RgCpgmAAHm"
      },
      "execution_count": 7,
      "outputs": []
    },
    {
      "cell_type": "code",
      "source": [
        "def load_data(path):\n",
        "\n",
        "  images=[]\n",
        "  label=[]\n",
        "\n",
        "  categories=os.listdir(path)\n",
        "\n",
        "  for category in categories:\n",
        "\n",
        "    category_path=os.path.join(path,category)\n",
        "    for image in os.listdir(category_path):\n",
        "\n",
        "      img=cv2.imread(os.path.join(category_path,image))\n",
        "      img=cv2.resize(img,(224,224))\n",
        "      images.append(img)\n",
        "      label.append(category)\n",
        "\n",
        "  images=np.array(images)\n",
        "  label=np.array(label)\n",
        "\n",
        "  le=LabelEncoder()\n",
        "  label=le.fit_transform(label)\n",
        "  return images,label"
      ],
      "metadata": {
        "id": "51PmYjMf_8ri"
      },
      "execution_count": 8,
      "outputs": []
    },
    {
      "cell_type": "code",
      "source": [
        "#Load Data\n",
        "x, y = load_data('/content/lung_colon_image_set/lung_image_sets')"
      ],
      "metadata": {
        "id": "64gp0S7W_8uH"
      },
      "execution_count": 9,
      "outputs": []
    },
    {
      "cell_type": "code",
      "source": [
        "x_train,x_test,y_train,y_test=train_test_split(x,y,test_size=0.2,random_state=42)"
      ],
      "metadata": {
        "id": "QklR3jO9_8wP"
      },
      "execution_count": 10,
      "outputs": []
    },
    {
      "cell_type": "code",
      "source": [
        "# Model\n",
        "\n",
        "model1 = Sequential()\n",
        "\n",
        "base_model1 = VGG16(\n",
        "    weights='imagenet',\n",
        "    include_top=False,\n",
        "    input_shape=(224,224,3)\n",
        ")\n",
        "\n",
        "base_model1.trainable=False\n",
        "\n",
        "model1.add(base_model1)\n",
        "model1.add(BatchNormalization())\n",
        "model1.add(MaxPooling2D(pool_size=(2,2)))\n",
        "\n",
        "model1.add(Flatten())\n",
        "\n",
        "model1.add(Dense(1024,activation='relu'))\n",
        "model1.add(Dropout(0.3))\n",
        "model1.add(BatchNormalization())\n",
        "model1.add(Dense(512,activation='relu'))\n",
        "model1.add(Dropout(0.3))\n",
        "model1.add(BatchNormalization())\n",
        "model1.add(Dense(256,activation='relu'))\n",
        "model1.add(Dropout(0.3))\n",
        "model1.add(BatchNormalization())\n",
        "model1.add(Dense(4,activation='softmax'))\n",
        "\n",
        "model1.compile(optimizer='adam', loss='sparse_categorical_crossentropy', metrics=['accuracy'])"
      ],
      "metadata": {
        "id": "6izZurA8_8yV",
        "colab": {
          "base_uri": "https://localhost:8080/"
        },
        "outputId": "5a42a636-abfb-42b9-995e-d28d050eaa9b"
      },
      "execution_count": 11,
      "outputs": [
        {
          "output_type": "stream",
          "name": "stdout",
          "text": [
            "Downloading data from https://storage.googleapis.com/tensorflow/keras-applications/vgg16/vgg16_weights_tf_dim_ordering_tf_kernels_notop.h5\n",
            "58889256/58889256 [==============================] - 4s 0us/step\n"
          ]
        }
      ]
    },
    {
      "cell_type": "code",
      "source": [
        "model1.summary()"
      ],
      "metadata": {
        "colab": {
          "base_uri": "https://localhost:8080/"
        },
        "id": "sKyWl4x5_80q",
        "outputId": "6c117e9e-c457-4413-b586-b2f30ce733a2"
      },
      "execution_count": 12,
      "outputs": [
        {
          "output_type": "stream",
          "name": "stdout",
          "text": [
            "Model: \"sequential\"\n",
            "_________________________________________________________________\n",
            " Layer (type)                Output Shape              Param #   \n",
            "=================================================================\n",
            " vgg16 (Functional)          (None, 7, 7, 512)         14714688  \n",
            "                                                                 \n",
            " batch_normalization (Batch  (None, 7, 7, 512)         2048      \n",
            " Normalization)                                                  \n",
            "                                                                 \n",
            " max_pooling2d (MaxPooling2  (None, 3, 3, 512)         0         \n",
            " D)                                                              \n",
            "                                                                 \n",
            " flatten (Flatten)           (None, 4608)              0         \n",
            "                                                                 \n",
            " dense (Dense)               (None, 1024)              4719616   \n",
            "                                                                 \n",
            " dropout (Dropout)           (None, 1024)              0         \n",
            "                                                                 \n",
            " batch_normalization_1 (Bat  (None, 1024)              4096      \n",
            " chNormalization)                                                \n",
            "                                                                 \n",
            " dense_1 (Dense)             (None, 512)               524800    \n",
            "                                                                 \n",
            " dropout_1 (Dropout)         (None, 512)               0         \n",
            "                                                                 \n",
            " batch_normalization_2 (Bat  (None, 512)               2048      \n",
            " chNormalization)                                                \n",
            "                                                                 \n",
            " dense_2 (Dense)             (None, 256)               131328    \n",
            "                                                                 \n",
            " dropout_2 (Dropout)         (None, 256)               0         \n",
            "                                                                 \n",
            " batch_normalization_3 (Bat  (None, 256)               1024      \n",
            " chNormalization)                                                \n",
            "                                                                 \n",
            " dense_3 (Dense)             (None, 4)                 1028      \n",
            "                                                                 \n",
            "=================================================================\n",
            "Total params: 20100676 (76.68 MB)\n",
            "Trainable params: 5381380 (20.53 MB)\n",
            "Non-trainable params: 14719296 (56.15 MB)\n",
            "_________________________________________________________________\n"
          ]
        }
      ]
    },
    {
      "cell_type": "code",
      "source": [
        "callbacks = [\n",
        "    keras.callbacks.EarlyStopping(patience=10, restore_best_weights=True),\n",
        "    keras.callbacks.ReduceLROnPlateau(factor=0.1, patience=3),\n",
        "    keras.callbacks.ModelCheckpoint('best_model.h5', save_best_only=True),\n",
        "    keras.callbacks.TensorBoard(log_dir='logs')\n",
        "]"
      ],
      "metadata": {
        "id": "4okPaeOg_82s"
      },
      "execution_count": 13,
      "outputs": []
    },
    {
      "cell_type": "code",
      "source": [
        "history1 = model1.fit(x_train, y_train, epochs=15, validation_split=0.2, shuffle=True, callbacks=callbacks, steps_per_epoch = 100 )"
      ],
      "metadata": {
        "colab": {
          "base_uri": "https://localhost:8080/"
        },
        "id": "Pabwz0AF_85K",
        "outputId": "119020c9-c875-4066-801c-0424283697c3"
      },
      "execution_count": 14,
      "outputs": [
        {
          "output_type": "stream",
          "name": "stdout",
          "text": [
            "Epoch 1/15\n",
            "100/100 [==============================] - ETA: 0s - loss: 0.2290 - accuracy: 0.9166"
          ]
        },
        {
          "output_type": "stream",
          "name": "stderr",
          "text": [
            "/usr/local/lib/python3.10/dist-packages/keras/src/engine/training.py:3103: UserWarning: You are saving your model as an HDF5 file via `model.save()`. This file format is considered legacy. We recommend using instead the native Keras format, e.g. `model.save('my_model.keras')`.\n",
            "  saving_api.save_model(\n"
          ]
        },
        {
          "output_type": "stream",
          "name": "stdout",
          "text": [
            "\b\b\b\b\b\b\b\b\b\b\b\b\b\b\b\b\b\b\b\b\b\b\b\b\b\b\b\b\b\b\b\b\b\b\b\b\b\b\b\b\b\b\b\b\b\b\b\b\b\b\b\b\b\b\b\b\b\b\b\b\b\b\b\b\b\b\b\b\b\b\b\b\b\b\b\b\b\b\b\b\b\b\b\b\r100/100 [==============================] - 75s 532ms/step - loss: 0.2290 - accuracy: 0.9166 - val_loss: 0.1504 - val_accuracy: 0.9517 - lr: 0.0010\n",
            "Epoch 2/15\n",
            "100/100 [==============================] - 50s 502ms/step - loss: 0.0474 - accuracy: 0.9843 - val_loss: 0.1077 - val_accuracy: 0.9671 - lr: 0.0010\n",
            "Epoch 3/15\n",
            "100/100 [==============================] - 49s 493ms/step - loss: 0.0263 - accuracy: 0.9909 - val_loss: 0.0900 - val_accuracy: 0.9725 - lr: 0.0010\n",
            "Epoch 4/15\n",
            "100/100 [==============================] - 49s 496ms/step - loss: 0.0145 - accuracy: 0.9951 - val_loss: 0.1031 - val_accuracy: 0.9742 - lr: 0.0010\n",
            "Epoch 5/15\n",
            "100/100 [==============================] - 49s 494ms/step - loss: 0.0127 - accuracy: 0.9951 - val_loss: 0.1096 - val_accuracy: 0.9733 - lr: 0.0010\n",
            "Epoch 6/15\n",
            "100/100 [==============================] - 49s 496ms/step - loss: 0.0095 - accuracy: 0.9968 - val_loss: 0.0934 - val_accuracy: 0.9746 - lr: 0.0010\n",
            "Epoch 7/15\n",
            "100/100 [==============================] - 49s 488ms/step - loss: 0.0058 - accuracy: 0.9983 - val_loss: 0.0786 - val_accuracy: 0.9783 - lr: 1.0000e-04\n",
            "Epoch 8/15\n",
            "100/100 [==============================] - 49s 488ms/step - loss: 0.0046 - accuracy: 0.9985 - val_loss: 0.0764 - val_accuracy: 0.9783 - lr: 1.0000e-04\n",
            "Epoch 9/15\n",
            "100/100 [==============================] - 49s 489ms/step - loss: 0.0053 - accuracy: 0.9979 - val_loss: 0.0723 - val_accuracy: 0.9783 - lr: 1.0000e-04\n",
            "Epoch 10/15\n",
            "100/100 [==============================] - 50s 497ms/step - loss: 0.0034 - accuracy: 0.9990 - val_loss: 0.0686 - val_accuracy: 0.9796 - lr: 1.0000e-04\n",
            "Epoch 11/15\n",
            "100/100 [==============================] - 50s 498ms/step - loss: 0.0021 - accuracy: 0.9996 - val_loss: 0.0682 - val_accuracy: 0.9792 - lr: 1.0000e-04\n",
            "Epoch 12/15\n",
            "100/100 [==============================] - 49s 495ms/step - loss: 0.0019 - accuracy: 0.9996 - val_loss: 0.0710 - val_accuracy: 0.9804 - lr: 1.0000e-04\n",
            "Epoch 13/15\n",
            "100/100 [==============================] - 49s 487ms/step - loss: 0.0020 - accuracy: 0.9995 - val_loss: 0.0714 - val_accuracy: 0.9796 - lr: 1.0000e-04\n",
            "Epoch 14/15\n",
            "100/100 [==============================] - 49s 493ms/step - loss: 0.0025 - accuracy: 0.9991 - val_loss: 0.0711 - val_accuracy: 0.9796 - lr: 1.0000e-04\n",
            "Epoch 15/15\n",
            "100/100 [==============================] - 49s 488ms/step - loss: 0.0015 - accuracy: 0.9997 - val_loss: 0.0701 - val_accuracy: 0.9800 - lr: 1.0000e-05\n"
          ]
        }
      ]
    },
    {
      "cell_type": "code",
      "source": [
        "plt.plot(history1.history['accuracy'], color='red', label='train')\n",
        "plt.plot(history1.history['val_accuracy'], color='blue', label='valid')\n",
        "plt.legend()\n",
        "plt.show()"
      ],
      "metadata": {
        "colab": {
          "base_uri": "https://localhost:8080/",
          "height": 430
        },
        "id": "rWB8XovX_87Z",
        "outputId": "a7abc83e-94a3-4e29-d346-d3a9d11ec7d7"
      },
      "execution_count": 15,
      "outputs": [
        {
          "output_type": "display_data",
          "data": {
            "text/plain": [
              "<Figure size 640x480 with 1 Axes>"
            ],
            "image/png": "[encoded data removed]"
          },
          "metadata": {}
        }
      ]
    },
    {
      "cell_type": "code",
      "source": [
        "plt.plot(history1.history['loss'], color='red', label='train')\n",
        "plt.plot(history1.history['val_loss'], color='blue', label='valid')\n",
        "plt.legend()\n",
        "plt.show()"
      ],
      "metadata": {
        "colab": {
          "base_uri": "https://localhost:8080/",
          "height": 430
        },
        "id": "YmIs8ZTx_8-1",
        "outputId": "0a103ddb-99ab-4428-c193-3ac99199aa4c"
      },
      "execution_count": 16,
      "outputs": [
        {
          "output_type": "display_data",
          "data": {
            "text/plain": [
              "<Figure size 640x480 with 1 Axes>"
            ],
            "image/png": "[encoded data removed]"
          },
          "metadata": {}
        }
      ]
    },
    {
      "cell_type": "code",
      "source": [
        "y_pred = model1.predict(x_test)\n",
        "predictions = np.argmax(y_pred, axis=1)\n",
        "print(classification_report(y_test,predictions))"
      ],
      "metadata": {
        "colab": {
          "base_uri": "https://localhost:8080/"
        },
        "id": "kR-xK2OVAsNJ",
        "outputId": "dca99da4-3a87-4d52-d00c-7c8204b92742"
      },
      "execution_count": 17,
      "outputs": [
        {
          "output_type": "stream",
          "name": "stdout",
          "text": [
            "94/94 [==============================] - 17s 182ms/step\n",
            "              precision    recall  f1-score   support\n",
            "\n",
            "           0       0.98      0.96      0.97      1037\n",
            "           1       1.00      1.00      1.00       970\n",
            "           2       0.96      0.98      0.97       993\n",
            "\n",
            "    accuracy                           0.98      3000\n",
            "   macro avg       0.98      0.98      0.98      3000\n",
            "weighted avg       0.98      0.98      0.98      3000\n",
            "\n"
          ]
        }
      ]
    },
    {
      "cell_type": "code",
      "source": [
        "sns.heatmap(confusion_matrix(y_test,predictions), annot=True, fmt='d', cmap='Blues')\n",
        "plt.xlabel('Predicted')\n",
        "plt.ylabel('True')\n",
        "plt.show()"
      ],
      "metadata": {
        "colab": {
          "base_uri": "https://localhost:8080/",
          "height": 449
        },
        "id": "bz3rBmxEBANA",
        "outputId": "3e875cb6-b793-4423-87de-f60838134ca1"
      },
      "execution_count": 18,
      "outputs": [
        {
          "output_type": "display_data",
          "data": {
            "text/plain": [
              "<Figure size 640x480 with 2 Axes>"
            ],
            "image/png": "[encoded data removed]"
          },
          "metadata": {}
        }
      ]
    },
    {
      "cell_type": "code",
      "source": [
        "def prediction(test_input):\n",
        "\n",
        "  return np.argmax(model1.predict(test_input), axis=1)"
      ],
      "metadata": {
        "id": "5FYuW_wnMYqe"
      },
      "execution_count": 19,
      "outputs": []
    },
    {
      "cell_type": "code",
      "source": [
        "def Lung_Cancer_Detector(input_path):\n",
        "\n",
        "  img=cv2.imread(input_path)\n",
        "  img=cv2.resize(img,(224,224))\n",
        "  image=np.array(img)\n",
        "  pred = prediction(image)\n",
        "\n",
        "  if pred==0:\n",
        "    print(\"Lung adenocarcinoma\")\n",
        "  elif pred==1:\n",
        "    print(\"Lung benign tissue\")\n",
        "  else:\n",
        "    print(\"Lung squamous cell carcinoma\")"
      ],
      "metadata": {
        "id": "X0cmcmQeBj5z"
      },
      "execution_count": 20,
      "outputs": []
    },
    {
      "cell_type": "code",
      "source": [],
      "metadata": {
        "id": "LjZfMxECTRzQ"
      },
      "execution_count": null,
      "outputs": []
    }
  ]
}